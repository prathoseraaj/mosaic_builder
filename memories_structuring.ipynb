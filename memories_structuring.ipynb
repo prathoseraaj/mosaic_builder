{
 "cells": [
  {
   "cell_type": "markdown",
   "id": "0",
   "metadata": {},
   "source": [
    "MOSAIC BUILDER(Memory Structuring)"
   ]
  },
  {
   "cell_type": "markdown",
   "id": "1",
   "metadata": {},
   "source": [
    "COLLECTING DATA "
   ]
  },
  {
   "cell_type": "code",
   "execution_count": null,
   "id": "2",
   "metadata": {},
   "outputs": [],
   "source": [
    "memories = []"
   ]
  },
  {
   "cell_type": "markdown",
   "id": "3",
   "metadata": {},
   "source": [
    "1. Text Input"
   ]
  },
  {
   "cell_type": "code",
   "execution_count": null,
   "id": "4",
   "metadata": {},
   "outputs": [],
   "source": [
    "\n",
    "text_input = input(\"text input: \")\n",
    "print(\"text: \",text_input)\n",
    "\n",
    "if text_input.strip():\n",
    "    memories.append(text_input.strip())"
   ]
  },
  {
   "cell_type": "markdown",
   "id": "5",
   "metadata": {},
   "source": [
    "2. Speech To Text"
   ]
  },
  {
   "cell_type": "code",
   "execution_count": null,
   "id": "6",
   "metadata": {},
   "outputs": [],
   "source": [
    "\n",
    "\n",
    "import speech_recognition as sr\n",
    "\n",
    "def speech_to_text(audio_file=None):\n",
    "    \n",
    "    r = sr.Recognizer()\n",
    "\n",
    "    with sr.Microphone() as source:\n",
    "        print(\"speck Now: \")\n",
    "        audio = r.listen(source)\n",
    "    \n",
    "    try:\n",
    "        text = r.recognize_google(audio)\n",
    "        print(\"recognized text: \",text)\n",
    "        return text\n",
    "    \n",
    "    except Exception as e:\n",
    "        print(\"Error\",e)\n",
    "        return \"\"\n",
    "\n",
    "\n",
    "\n"
   ]
  },
  {
   "cell_type": "code",
   "execution_count": null,
   "id": "7",
   "metadata": {},
   "outputs": [],
   "source": [
    "speech_text = speech_to_text()\n",
    "\n",
    "if speech_text.strip():\n",
    "    memories.append(speech_text.strip())"
   ]
  },
  {
   "cell_type": "markdown",
   "id": "8",
   "metadata": {},
   "source": [
    "3. Image Analysis"
   ]
  },
  {
   "cell_type": "code",
   "execution_count": null,
   "id": "9",
   "metadata": {},
   "outputs": [],
   "source": [
    "\n",
    "import google.generativeai as genai\n",
    "from PIL import Image\n",
    "import os\n",
    "from dotenv import load_dotenv"
   ]
  },
  {
   "cell_type": "code",
   "execution_count": null,
   "id": "10",
   "metadata": {},
   "outputs": [],
   "source": [
    "load_dotenv()\n",
    "gemini_api_key = os.getenv(\"gemini_api_key\")\n",
    "genai.configure(api_key=gemini_api_key)"
   ]
  },
  {
   "cell_type": "code",
   "execution_count": null,
   "id": "11",
   "metadata": {},
   "outputs": [],
   "source": [
    "image_path = 'text_image.png'\n",
    "image = Image.open(image_path)"
   ]
  },
  {
   "cell_type": "code",
   "execution_count": null,
   "id": "12",
   "metadata": {},
   "outputs": [],
   "source": [
    "def image_analysis(image):\n",
    "    \n",
    "    try:\n",
    "        model = genai.GenerativeModel(\"gemini-2.5-flash\")\n",
    "        prompt = \"Explain about the image?\"\n",
    "        response = model.generate_content([prompt,image])\n",
    "\n",
    "        print(\"Image Analysis: \",response.text)\n",
    "        return response.text\n",
    "\n",
    "\n",
    "    except Exception as e:\n",
    "        print(\"Error: \",e)\n",
    "        return \"\"\n",
    "\n",
    "    "
   ]
  },
  {
   "cell_type": "code",
   "execution_count": null,
   "id": "13",
   "metadata": {},
   "outputs": [],
   "source": [
    "image_text = image_analysis(image)\n",
    "\n",
    "if image_text and image_text.strip():\n",
    "    memories.append(image_text.strip())"
   ]
  },
  {
   "cell_type": "code",
   "execution_count": null,
   "id": "14",
   "metadata": {},
   "outputs": [],
   "source": [
    "print(\"Memory Array:\",memories)"
   ]
  },
  {
   "cell_type": "markdown",
   "id": "15",
   "metadata": {},
   "source": [
    "NLP EXTRACTION"
   ]
  },
  {
   "cell_type": "code",
   "execution_count": null,
   "id": "16",
   "metadata": {},
   "outputs": [],
   "source": [
    "import spacy"
   ]
  },
  {
   "cell_type": "code",
   "execution_count": null,
   "id": "17",
   "metadata": {},
   "outputs": [],
   "source": [
    "nlp = spacy.load(\"en_core_web_sm\")\n",
    "def nlp_extraction(memories):\n",
    "\n",
    "    structured = []\n",
    "\n",
    "    try:\n",
    "        for mem in memories:\n",
    "            doc = nlp(mem)\n",
    "            events = [sent.text for sent in doc.sents]\n",
    "            entities = [ent.text for ent in doc.ents]\n",
    "            keywords = [token.lemma_ for token in doc if token.is_alpha and not token.is_stop]\n",
    "            structured.append({\"original\": mem, \n",
    "                               \"events\": events, \n",
    "                               \"entities\": entities, \n",
    "                               \"keywords\": keywords})\n",
    "        print(\"NLP Extraction: \",structured)\n",
    "        return structured\n",
    "    \n",
    "    except Exception as e:\n",
    "        print(\"Error:\",e)\n",
    "        return \"\""
   ]
  },
  {
   "cell_type": "code",
   "execution_count": null,
   "id": "18",
   "metadata": {},
   "outputs": [],
   "source": [
    "structured_text = nlp_extraction(memories)"
   ]
  },
  {
   "cell_type": "markdown",
   "id": "19",
   "metadata": {},
   "source": [
    "SENTIMENTAL ANALYSIS"
   ]
  },
  {
   "cell_type": "code",
   "execution_count": null,
   "id": "20",
   "metadata": {},
   "outputs": [],
   "source": [
    "from transformers import pipeline"
   ]
  },
  {
   "cell_type": "code",
   "execution_count": null,
   "id": "21",
   "metadata": {},
   "outputs": [],
   "source": [
    "sentimetal_analyzer = pipeline(\"sentimental-analysis\")\n",
    "\n",
    "def sentimental_analysis(structured_text):\n",
    "    for item in structured_text:\n",
    "        sentiment = sentimetal_analyzer(item[\"original\"])[0]\n",
    "        item[\"sentiment\"] = sentiment[\"label\"]\n",
    "        item[\"sentiment_score\"] = sentiment[\"score\"]\n"
   ]
  }
 ],
 "metadata": {
  "kernelspec": {
   "display_name": ".venv",
   "language": "python",
   "name": "python3"
  },
  "language_info": {
   "codemirror_mode": {
    "name": "ipython",
    "version": 3
   },
   "file_extension": ".py",
   "mimetype": "text/x-python",
   "name": "python",
   "nbconvert_exporter": "python",
   "pygments_lexer": "ipython3",
   "version": "3.12.3"
  }
 },
 "nbformat": 4,
 "nbformat_minor": 5
}
