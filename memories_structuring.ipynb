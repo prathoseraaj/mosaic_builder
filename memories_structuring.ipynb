{
 "cells": [
  {
   "cell_type": "markdown",
   "id": "f4b6b640",
   "metadata": {},
   "source": [
    "MOSAIC BUILDER(Memory Structuring)"
   ]
  },
  {
   "cell_type": "markdown",
   "id": "86f3964b",
   "metadata": {},
   "source": [
    "1) Collection the Data"
   ]
  },
  {
   "cell_type": "code",
   "execution_count": null,
   "id": "6b2fe5dc",
   "metadata": {},
   "outputs": [],
   "source": [
    "#text_input\n",
    "input = input(\"text input: \")"
   ]
  }
 ],
 "metadata": {
  "kernelspec": {
   "display_name": "Python 3",
   "language": "python",
   "name": "python3"
  },
  "language_info": {
   "name": "python",
   "version": "3.12.3"
  }
 },
 "nbformat": 4,
 "nbformat_minor": 5
}
